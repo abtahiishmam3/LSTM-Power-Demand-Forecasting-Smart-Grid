{
 "cells": [
  {
   "cell_type": "markdown",
   "id": "6b3adbae-64c8-47f9-9177-e062d693a370",
   "metadata": {},
   "source": [
    "# POWER DEMAND FORECASTING USING LSTM\n",
    "## Code By: Abtahi Ishmam, Koushik Roy\n",
    "### Paper Link: https://doi.org/10.1109/ACMI53878.2021.9528277"
   ]
  },
  {
   "cell_type": "markdown",
   "id": "4b8166ab-e799-4379-93e9-b5a9541de5ba",
   "metadata": {},
   "source": [
    "### Step 1: Importing the necessary libraries"
   ]
  },
  {
   "cell_type": "code",
   "execution_count": 1,
   "id": "bd186c37-ed49-4d5e-adbe-6a218ec1cc24",
   "metadata": {},
   "outputs": [],
   "source": [
    "import numpy as np\n",
    "import matplotlib.pyplot as plt\n",
    "import seaborn as sns\n",
    "import pandas as pd"
   ]
  },
  {
   "cell_type": "code",
   "execution_count": 2,
   "id": "01a4df66-d4fd-42c2-ad32-d8e4141b9679",
   "metadata": {},
   "outputs": [],
   "source": [
    "from keras.models import Sequential\n",
    "from keras.layers import Dense\n",
    "from keras.layers import LSTM"
   ]
  },
  {
   "cell_type": "code",
   "execution_count": 3,
   "id": "259d9113-7b62-444a-aa53-c8350baffa48",
   "metadata": {},
   "outputs": [],
   "source": [
    "from sklearn.preprocessing import MinMaxScaler\n",
    "from sklearn.model_selection import train_test_split"
   ]
  },
  {
   "cell_type": "markdown",
   "id": "367b338f-0b1e-47ce-b99c-705d99fdba2c",
   "metadata": {},
   "source": [
    "### Step 2: Dataset exploration and preprocessing"
   ]
  },
  {
   "cell_type": "markdown",
   "id": "a7d7a223-523e-4142-8e01-065885de3a92",
   "metadata": {},
   "source": [
    "#### 2a. Exploration"
   ]
  },
  {
   "cell_type": "code",
   "execution_count": 4,
   "id": "42d29dc9-1d7f-4050-ba9e-0017a8bfc379",
   "metadata": {},
   "outputs": [
    {
     "data": {
      "text/html": [
       "<div>\n",
       "<style scoped>\n",
       "    .dataframe tbody tr th:only-of-type {\n",
       "        vertical-align: middle;\n",
       "    }\n",
       "\n",
       "    .dataframe tbody tr th {\n",
       "        vertical-align: top;\n",
       "    }\n",
       "\n",
       "    .dataframe thead th {\n",
       "        text-align: right;\n",
       "    }\n",
       "</style>\n",
       "<table border=\"1\" class=\"dataframe\">\n",
       "  <thead>\n",
       "    <tr style=\"text-align: right;\">\n",
       "      <th></th>\n",
       "      <th>time</th>\n",
       "      <th>generation biomass</th>\n",
       "      <th>generation fossil brown coal/lignite</th>\n",
       "      <th>generation fossil coal-derived gas</th>\n",
       "      <th>generation fossil gas</th>\n",
       "      <th>generation fossil hard coal</th>\n",
       "      <th>generation fossil oil</th>\n",
       "      <th>generation fossil oil shale</th>\n",
       "      <th>generation fossil peat</th>\n",
       "      <th>generation geothermal</th>\n",
       "      <th>...</th>\n",
       "      <th>generation waste</th>\n",
       "      <th>generation wind offshore</th>\n",
       "      <th>generation wind onshore</th>\n",
       "      <th>forecast solar day ahead</th>\n",
       "      <th>forecast wind offshore eday ahead</th>\n",
       "      <th>forecast wind onshore day ahead</th>\n",
       "      <th>total load forecast</th>\n",
       "      <th>total load actual</th>\n",
       "      <th>price day ahead</th>\n",
       "      <th>price actual</th>\n",
       "    </tr>\n",
       "  </thead>\n",
       "  <tbody>\n",
       "    <tr>\n",
       "      <th>0</th>\n",
       "      <td>2015-01-01 00:00:00+01:00</td>\n",
       "      <td>447.0</td>\n",
       "      <td>329.0</td>\n",
       "      <td>0.0</td>\n",
       "      <td>4844.0</td>\n",
       "      <td>4821.0</td>\n",
       "      <td>162.0</td>\n",
       "      <td>0.0</td>\n",
       "      <td>0.0</td>\n",
       "      <td>0.0</td>\n",
       "      <td>...</td>\n",
       "      <td>196.0</td>\n",
       "      <td>0.0</td>\n",
       "      <td>6378.0</td>\n",
       "      <td>17.0</td>\n",
       "      <td>NaN</td>\n",
       "      <td>6436.0</td>\n",
       "      <td>26118.0</td>\n",
       "      <td>25385.0</td>\n",
       "      <td>50.10</td>\n",
       "      <td>65.41</td>\n",
       "    </tr>\n",
       "    <tr>\n",
       "      <th>1</th>\n",
       "      <td>2015-01-01 01:00:00+01:00</td>\n",
       "      <td>449.0</td>\n",
       "      <td>328.0</td>\n",
       "      <td>0.0</td>\n",
       "      <td>5196.0</td>\n",
       "      <td>4755.0</td>\n",
       "      <td>158.0</td>\n",
       "      <td>0.0</td>\n",
       "      <td>0.0</td>\n",
       "      <td>0.0</td>\n",
       "      <td>...</td>\n",
       "      <td>195.0</td>\n",
       "      <td>0.0</td>\n",
       "      <td>5890.0</td>\n",
       "      <td>16.0</td>\n",
       "      <td>NaN</td>\n",
       "      <td>5856.0</td>\n",
       "      <td>24934.0</td>\n",
       "      <td>24382.0</td>\n",
       "      <td>48.10</td>\n",
       "      <td>64.92</td>\n",
       "    </tr>\n",
       "    <tr>\n",
       "      <th>2</th>\n",
       "      <td>2015-01-01 02:00:00+01:00</td>\n",
       "      <td>448.0</td>\n",
       "      <td>323.0</td>\n",
       "      <td>0.0</td>\n",
       "      <td>4857.0</td>\n",
       "      <td>4581.0</td>\n",
       "      <td>157.0</td>\n",
       "      <td>0.0</td>\n",
       "      <td>0.0</td>\n",
       "      <td>0.0</td>\n",
       "      <td>...</td>\n",
       "      <td>196.0</td>\n",
       "      <td>0.0</td>\n",
       "      <td>5461.0</td>\n",
       "      <td>8.0</td>\n",
       "      <td>NaN</td>\n",
       "      <td>5454.0</td>\n",
       "      <td>23515.0</td>\n",
       "      <td>22734.0</td>\n",
       "      <td>47.33</td>\n",
       "      <td>64.48</td>\n",
       "    </tr>\n",
       "    <tr>\n",
       "      <th>3</th>\n",
       "      <td>2015-01-01 03:00:00+01:00</td>\n",
       "      <td>438.0</td>\n",
       "      <td>254.0</td>\n",
       "      <td>0.0</td>\n",
       "      <td>4314.0</td>\n",
       "      <td>4131.0</td>\n",
       "      <td>160.0</td>\n",
       "      <td>0.0</td>\n",
       "      <td>0.0</td>\n",
       "      <td>0.0</td>\n",
       "      <td>...</td>\n",
       "      <td>191.0</td>\n",
       "      <td>0.0</td>\n",
       "      <td>5238.0</td>\n",
       "      <td>2.0</td>\n",
       "      <td>NaN</td>\n",
       "      <td>5151.0</td>\n",
       "      <td>22642.0</td>\n",
       "      <td>21286.0</td>\n",
       "      <td>42.27</td>\n",
       "      <td>59.32</td>\n",
       "    </tr>\n",
       "    <tr>\n",
       "      <th>4</th>\n",
       "      <td>2015-01-01 04:00:00+01:00</td>\n",
       "      <td>428.0</td>\n",
       "      <td>187.0</td>\n",
       "      <td>0.0</td>\n",
       "      <td>4130.0</td>\n",
       "      <td>3840.0</td>\n",
       "      <td>156.0</td>\n",
       "      <td>0.0</td>\n",
       "      <td>0.0</td>\n",
       "      <td>0.0</td>\n",
       "      <td>...</td>\n",
       "      <td>189.0</td>\n",
       "      <td>0.0</td>\n",
       "      <td>4935.0</td>\n",
       "      <td>9.0</td>\n",
       "      <td>NaN</td>\n",
       "      <td>4861.0</td>\n",
       "      <td>21785.0</td>\n",
       "      <td>20264.0</td>\n",
       "      <td>38.41</td>\n",
       "      <td>56.04</td>\n",
       "    </tr>\n",
       "  </tbody>\n",
       "</table>\n",
       "<p>5 rows × 29 columns</p>\n",
       "</div>"
      ],
      "text/plain": [
       "                        time  generation biomass  \\\n",
       "0  2015-01-01 00:00:00+01:00               447.0   \n",
       "1  2015-01-01 01:00:00+01:00               449.0   \n",
       "2  2015-01-01 02:00:00+01:00               448.0   \n",
       "3  2015-01-01 03:00:00+01:00               438.0   \n",
       "4  2015-01-01 04:00:00+01:00               428.0   \n",
       "\n",
       "   generation fossil brown coal/lignite  generation fossil coal-derived gas  \\\n",
       "0                                 329.0                                 0.0   \n",
       "1                                 328.0                                 0.0   \n",
       "2                                 323.0                                 0.0   \n",
       "3                                 254.0                                 0.0   \n",
       "4                                 187.0                                 0.0   \n",
       "\n",
       "   generation fossil gas  generation fossil hard coal  generation fossil oil  \\\n",
       "0                 4844.0                       4821.0                  162.0   \n",
       "1                 5196.0                       4755.0                  158.0   \n",
       "2                 4857.0                       4581.0                  157.0   \n",
       "3                 4314.0                       4131.0                  160.0   \n",
       "4                 4130.0                       3840.0                  156.0   \n",
       "\n",
       "   generation fossil oil shale  generation fossil peat  generation geothermal  \\\n",
       "0                          0.0                     0.0                    0.0   \n",
       "1                          0.0                     0.0                    0.0   \n",
       "2                          0.0                     0.0                    0.0   \n",
       "3                          0.0                     0.0                    0.0   \n",
       "4                          0.0                     0.0                    0.0   \n",
       "\n",
       "   ...  generation waste  generation wind offshore  generation wind onshore  \\\n",
       "0  ...             196.0                       0.0                   6378.0   \n",
       "1  ...             195.0                       0.0                   5890.0   \n",
       "2  ...             196.0                       0.0                   5461.0   \n",
       "3  ...             191.0                       0.0                   5238.0   \n",
       "4  ...             189.0                       0.0                   4935.0   \n",
       "\n",
       "   forecast solar day ahead  forecast wind offshore eday ahead  \\\n",
       "0                      17.0                                NaN   \n",
       "1                      16.0                                NaN   \n",
       "2                       8.0                                NaN   \n",
       "3                       2.0                                NaN   \n",
       "4                       9.0                                NaN   \n",
       "\n",
       "   forecast wind onshore day ahead  total load forecast  total load actual  \\\n",
       "0                           6436.0              26118.0            25385.0   \n",
       "1                           5856.0              24934.0            24382.0   \n",
       "2                           5454.0              23515.0            22734.0   \n",
       "3                           5151.0              22642.0            21286.0   \n",
       "4                           4861.0              21785.0            20264.0   \n",
       "\n",
       "   price day ahead  price actual  \n",
       "0            50.10         65.41  \n",
       "1            48.10         64.92  \n",
       "2            47.33         64.48  \n",
       "3            42.27         59.32  \n",
       "4            38.41         56.04  \n",
       "\n",
       "[5 rows x 29 columns]"
      ]
     },
     "execution_count": 4,
     "metadata": {},
     "output_type": "execute_result"
    }
   ],
   "source": [
    "df = pd.read_csv('energy_dataset.csv')\n",
    "df.head()"
   ]
  },
  {
   "cell_type": "code",
   "execution_count": 5,
   "id": "a963553b-c04f-4ede-b438-fed5b664ca98",
   "metadata": {},
   "outputs": [
    {
     "name": "stdout",
     "output_type": "stream",
     "text": [
      "<class 'pandas.core.frame.DataFrame'>\n",
      "RangeIndex: 35064 entries, 0 to 35063\n",
      "Data columns (total 29 columns):\n",
      " #   Column                                       Non-Null Count  Dtype  \n",
      "---  ------                                       --------------  -----  \n",
      " 0   time                                         35064 non-null  object \n",
      " 1   generation biomass                           35045 non-null  float64\n",
      " 2   generation fossil brown coal/lignite         35046 non-null  float64\n",
      " 3   generation fossil coal-derived gas           35046 non-null  float64\n",
      " 4   generation fossil gas                        35046 non-null  float64\n",
      " 5   generation fossil hard coal                  35046 non-null  float64\n",
      " 6   generation fossil oil                        35045 non-null  float64\n",
      " 7   generation fossil oil shale                  35046 non-null  float64\n",
      " 8   generation fossil peat                       35046 non-null  float64\n",
      " 9   generation geothermal                        35046 non-null  float64\n",
      " 10  generation hydro pumped storage aggregated   0 non-null      float64\n",
      " 11  generation hydro pumped storage consumption  35045 non-null  float64\n",
      " 12  generation hydro run-of-river and poundage   35045 non-null  float64\n",
      " 13  generation hydro water reservoir             35046 non-null  float64\n",
      " 14  generation marine                            35045 non-null  float64\n",
      " 15  generation nuclear                           35047 non-null  float64\n",
      " 16  generation other                             35046 non-null  float64\n",
      " 17  generation other renewable                   35046 non-null  float64\n",
      " 18  generation solar                             35046 non-null  float64\n",
      " 19  generation waste                             35045 non-null  float64\n",
      " 20  generation wind offshore                     35046 non-null  float64\n",
      " 21  generation wind onshore                      35046 non-null  float64\n",
      " 22  forecast solar day ahead                     35064 non-null  float64\n",
      " 23  forecast wind offshore eday ahead            0 non-null      float64\n",
      " 24  forecast wind onshore day ahead              35064 non-null  float64\n",
      " 25  total load forecast                          35064 non-null  float64\n",
      " 26  total load actual                            35028 non-null  float64\n",
      " 27  price day ahead                              35064 non-null  float64\n",
      " 28  price actual                                 35064 non-null  float64\n",
      "dtypes: float64(28), object(1)\n",
      "memory usage: 7.8+ MB\n"
     ]
    }
   ],
   "source": [
    "df.info()"
   ]
  },
  {
   "cell_type": "code",
   "execution_count": 6,
   "id": "525879e1-3a41-4e6b-ab7e-68cab35b03ec",
   "metadata": {},
   "outputs": [
    {
     "data": {
      "text/html": [
       "<div>\n",
       "<style scoped>\n",
       "    .dataframe tbody tr th:only-of-type {\n",
       "        vertical-align: middle;\n",
       "    }\n",
       "\n",
       "    .dataframe tbody tr th {\n",
       "        vertical-align: top;\n",
       "    }\n",
       "\n",
       "    .dataframe thead th {\n",
       "        text-align: right;\n",
       "    }\n",
       "</style>\n",
       "<table border=\"1\" class=\"dataframe\">\n",
       "  <thead>\n",
       "    <tr style=\"text-align: right;\">\n",
       "      <th></th>\n",
       "      <th>generation biomass</th>\n",
       "      <th>generation fossil brown coal/lignite</th>\n",
       "      <th>generation fossil coal-derived gas</th>\n",
       "      <th>generation fossil gas</th>\n",
       "      <th>generation fossil hard coal</th>\n",
       "      <th>generation fossil oil</th>\n",
       "      <th>generation fossil oil shale</th>\n",
       "      <th>generation fossil peat</th>\n",
       "      <th>generation geothermal</th>\n",
       "      <th>generation hydro pumped storage aggregated</th>\n",
       "      <th>...</th>\n",
       "      <th>generation waste</th>\n",
       "      <th>generation wind offshore</th>\n",
       "      <th>generation wind onshore</th>\n",
       "      <th>forecast solar day ahead</th>\n",
       "      <th>forecast wind offshore eday ahead</th>\n",
       "      <th>forecast wind onshore day ahead</th>\n",
       "      <th>total load forecast</th>\n",
       "      <th>total load actual</th>\n",
       "      <th>price day ahead</th>\n",
       "      <th>price actual</th>\n",
       "    </tr>\n",
       "  </thead>\n",
       "  <tbody>\n",
       "    <tr>\n",
       "      <th>count</th>\n",
       "      <td>35045.000000</td>\n",
       "      <td>35046.000000</td>\n",
       "      <td>35046.0</td>\n",
       "      <td>35046.000000</td>\n",
       "      <td>35046.000000</td>\n",
       "      <td>35045.000000</td>\n",
       "      <td>35046.0</td>\n",
       "      <td>35046.0</td>\n",
       "      <td>35046.0</td>\n",
       "      <td>0.0</td>\n",
       "      <td>...</td>\n",
       "      <td>35045.000000</td>\n",
       "      <td>35046.0</td>\n",
       "      <td>35046.000000</td>\n",
       "      <td>35064.000000</td>\n",
       "      <td>0.0</td>\n",
       "      <td>35064.000000</td>\n",
       "      <td>35064.000000</td>\n",
       "      <td>35028.000000</td>\n",
       "      <td>35064.000000</td>\n",
       "      <td>35064.000000</td>\n",
       "    </tr>\n",
       "    <tr>\n",
       "      <th>mean</th>\n",
       "      <td>383.513540</td>\n",
       "      <td>448.059208</td>\n",
       "      <td>0.0</td>\n",
       "      <td>5622.737488</td>\n",
       "      <td>4256.065742</td>\n",
       "      <td>298.319789</td>\n",
       "      <td>0.0</td>\n",
       "      <td>0.0</td>\n",
       "      <td>0.0</td>\n",
       "      <td>NaN</td>\n",
       "      <td>...</td>\n",
       "      <td>269.452133</td>\n",
       "      <td>0.0</td>\n",
       "      <td>5464.479769</td>\n",
       "      <td>1439.066735</td>\n",
       "      <td>NaN</td>\n",
       "      <td>5471.216689</td>\n",
       "      <td>28712.129962</td>\n",
       "      <td>28696.939905</td>\n",
       "      <td>49.874341</td>\n",
       "      <td>57.884023</td>\n",
       "    </tr>\n",
       "    <tr>\n",
       "      <th>std</th>\n",
       "      <td>85.353943</td>\n",
       "      <td>354.568590</td>\n",
       "      <td>0.0</td>\n",
       "      <td>2201.830478</td>\n",
       "      <td>1961.601013</td>\n",
       "      <td>52.520673</td>\n",
       "      <td>0.0</td>\n",
       "      <td>0.0</td>\n",
       "      <td>0.0</td>\n",
       "      <td>NaN</td>\n",
       "      <td>...</td>\n",
       "      <td>50.195536</td>\n",
       "      <td>0.0</td>\n",
       "      <td>3213.691587</td>\n",
       "      <td>1677.703355</td>\n",
       "      <td>NaN</td>\n",
       "      <td>3176.312853</td>\n",
       "      <td>4594.100854</td>\n",
       "      <td>4574.987950</td>\n",
       "      <td>14.618900</td>\n",
       "      <td>14.204083</td>\n",
       "    </tr>\n",
       "    <tr>\n",
       "      <th>min</th>\n",
       "      <td>0.000000</td>\n",
       "      <td>0.000000</td>\n",
       "      <td>0.0</td>\n",
       "      <td>0.000000</td>\n",
       "      <td>0.000000</td>\n",
       "      <td>0.000000</td>\n",
       "      <td>0.0</td>\n",
       "      <td>0.0</td>\n",
       "      <td>0.0</td>\n",
       "      <td>NaN</td>\n",
       "      <td>...</td>\n",
       "      <td>0.000000</td>\n",
       "      <td>0.0</td>\n",
       "      <td>0.000000</td>\n",
       "      <td>0.000000</td>\n",
       "      <td>NaN</td>\n",
       "      <td>237.000000</td>\n",
       "      <td>18105.000000</td>\n",
       "      <td>18041.000000</td>\n",
       "      <td>2.060000</td>\n",
       "      <td>9.330000</td>\n",
       "    </tr>\n",
       "    <tr>\n",
       "      <th>25%</th>\n",
       "      <td>333.000000</td>\n",
       "      <td>0.000000</td>\n",
       "      <td>0.0</td>\n",
       "      <td>4126.000000</td>\n",
       "      <td>2527.000000</td>\n",
       "      <td>263.000000</td>\n",
       "      <td>0.0</td>\n",
       "      <td>0.0</td>\n",
       "      <td>0.0</td>\n",
       "      <td>NaN</td>\n",
       "      <td>...</td>\n",
       "      <td>240.000000</td>\n",
       "      <td>0.0</td>\n",
       "      <td>2933.000000</td>\n",
       "      <td>69.000000</td>\n",
       "      <td>NaN</td>\n",
       "      <td>2979.000000</td>\n",
       "      <td>24793.750000</td>\n",
       "      <td>24807.750000</td>\n",
       "      <td>41.490000</td>\n",
       "      <td>49.347500</td>\n",
       "    </tr>\n",
       "    <tr>\n",
       "      <th>50%</th>\n",
       "      <td>367.000000</td>\n",
       "      <td>509.000000</td>\n",
       "      <td>0.0</td>\n",
       "      <td>4969.000000</td>\n",
       "      <td>4474.000000</td>\n",
       "      <td>300.000000</td>\n",
       "      <td>0.0</td>\n",
       "      <td>0.0</td>\n",
       "      <td>0.0</td>\n",
       "      <td>NaN</td>\n",
       "      <td>...</td>\n",
       "      <td>279.000000</td>\n",
       "      <td>0.0</td>\n",
       "      <td>4849.000000</td>\n",
       "      <td>576.000000</td>\n",
       "      <td>NaN</td>\n",
       "      <td>4855.000000</td>\n",
       "      <td>28906.000000</td>\n",
       "      <td>28901.000000</td>\n",
       "      <td>50.520000</td>\n",
       "      <td>58.020000</td>\n",
       "    </tr>\n",
       "    <tr>\n",
       "      <th>75%</th>\n",
       "      <td>433.000000</td>\n",
       "      <td>757.000000</td>\n",
       "      <td>0.0</td>\n",
       "      <td>6429.000000</td>\n",
       "      <td>5838.750000</td>\n",
       "      <td>330.000000</td>\n",
       "      <td>0.0</td>\n",
       "      <td>0.0</td>\n",
       "      <td>0.0</td>\n",
       "      <td>NaN</td>\n",
       "      <td>...</td>\n",
       "      <td>310.000000</td>\n",
       "      <td>0.0</td>\n",
       "      <td>7398.000000</td>\n",
       "      <td>2636.000000</td>\n",
       "      <td>NaN</td>\n",
       "      <td>7353.000000</td>\n",
       "      <td>32263.250000</td>\n",
       "      <td>32192.000000</td>\n",
       "      <td>60.530000</td>\n",
       "      <td>68.010000</td>\n",
       "    </tr>\n",
       "    <tr>\n",
       "      <th>max</th>\n",
       "      <td>592.000000</td>\n",
       "      <td>999.000000</td>\n",
       "      <td>0.0</td>\n",
       "      <td>20034.000000</td>\n",
       "      <td>8359.000000</td>\n",
       "      <td>449.000000</td>\n",
       "      <td>0.0</td>\n",
       "      <td>0.0</td>\n",
       "      <td>0.0</td>\n",
       "      <td>NaN</td>\n",
       "      <td>...</td>\n",
       "      <td>357.000000</td>\n",
       "      <td>0.0</td>\n",
       "      <td>17436.000000</td>\n",
       "      <td>5836.000000</td>\n",
       "      <td>NaN</td>\n",
       "      <td>17430.000000</td>\n",
       "      <td>41390.000000</td>\n",
       "      <td>41015.000000</td>\n",
       "      <td>101.990000</td>\n",
       "      <td>116.800000</td>\n",
       "    </tr>\n",
       "  </tbody>\n",
       "</table>\n",
       "<p>8 rows × 28 columns</p>\n",
       "</div>"
      ],
      "text/plain": [
       "       generation biomass  generation fossil brown coal/lignite  \\\n",
       "count        35045.000000                          35046.000000   \n",
       "mean           383.513540                            448.059208   \n",
       "std             85.353943                            354.568590   \n",
       "min              0.000000                              0.000000   \n",
       "25%            333.000000                              0.000000   \n",
       "50%            367.000000                            509.000000   \n",
       "75%            433.000000                            757.000000   \n",
       "max            592.000000                            999.000000   \n",
       "\n",
       "       generation fossil coal-derived gas  generation fossil gas  \\\n",
       "count                             35046.0           35046.000000   \n",
       "mean                                  0.0            5622.737488   \n",
       "std                                   0.0            2201.830478   \n",
       "min                                   0.0               0.000000   \n",
       "25%                                   0.0            4126.000000   \n",
       "50%                                   0.0            4969.000000   \n",
       "75%                                   0.0            6429.000000   \n",
       "max                                   0.0           20034.000000   \n",
       "\n",
       "       generation fossil hard coal  generation fossil oil  \\\n",
       "count                 35046.000000           35045.000000   \n",
       "mean                   4256.065742             298.319789   \n",
       "std                    1961.601013              52.520673   \n",
       "min                       0.000000               0.000000   \n",
       "25%                    2527.000000             263.000000   \n",
       "50%                    4474.000000             300.000000   \n",
       "75%                    5838.750000             330.000000   \n",
       "max                    8359.000000             449.000000   \n",
       "\n",
       "       generation fossil oil shale  generation fossil peat  \\\n",
       "count                      35046.0                 35046.0   \n",
       "mean                           0.0                     0.0   \n",
       "std                            0.0                     0.0   \n",
       "min                            0.0                     0.0   \n",
       "25%                            0.0                     0.0   \n",
       "50%                            0.0                     0.0   \n",
       "75%                            0.0                     0.0   \n",
       "max                            0.0                     0.0   \n",
       "\n",
       "       generation geothermal  generation hydro pumped storage aggregated  ...  \\\n",
       "count                35046.0                                         0.0  ...   \n",
       "mean                     0.0                                         NaN  ...   \n",
       "std                      0.0                                         NaN  ...   \n",
       "min                      0.0                                         NaN  ...   \n",
       "25%                      0.0                                         NaN  ...   \n",
       "50%                      0.0                                         NaN  ...   \n",
       "75%                      0.0                                         NaN  ...   \n",
       "max                      0.0                                         NaN  ...   \n",
       "\n",
       "       generation waste  generation wind offshore  generation wind onshore  \\\n",
       "count      35045.000000                   35046.0             35046.000000   \n",
       "mean         269.452133                       0.0              5464.479769   \n",
       "std           50.195536                       0.0              3213.691587   \n",
       "min            0.000000                       0.0                 0.000000   \n",
       "25%          240.000000                       0.0              2933.000000   \n",
       "50%          279.000000                       0.0              4849.000000   \n",
       "75%          310.000000                       0.0              7398.000000   \n",
       "max          357.000000                       0.0             17436.000000   \n",
       "\n",
       "       forecast solar day ahead  forecast wind offshore eday ahead  \\\n",
       "count              35064.000000                                0.0   \n",
       "mean                1439.066735                                NaN   \n",
       "std                 1677.703355                                NaN   \n",
       "min                    0.000000                                NaN   \n",
       "25%                   69.000000                                NaN   \n",
       "50%                  576.000000                                NaN   \n",
       "75%                 2636.000000                                NaN   \n",
       "max                 5836.000000                                NaN   \n",
       "\n",
       "       forecast wind onshore day ahead  total load forecast  \\\n",
       "count                     35064.000000         35064.000000   \n",
       "mean                       5471.216689         28712.129962   \n",
       "std                        3176.312853          4594.100854   \n",
       "min                         237.000000         18105.000000   \n",
       "25%                        2979.000000         24793.750000   \n",
       "50%                        4855.000000         28906.000000   \n",
       "75%                        7353.000000         32263.250000   \n",
       "max                       17430.000000         41390.000000   \n",
       "\n",
       "       total load actual  price day ahead  price actual  \n",
       "count       35028.000000     35064.000000  35064.000000  \n",
       "mean        28696.939905        49.874341     57.884023  \n",
       "std          4574.987950        14.618900     14.204083  \n",
       "min         18041.000000         2.060000      9.330000  \n",
       "25%         24807.750000        41.490000     49.347500  \n",
       "50%         28901.000000        50.520000     58.020000  \n",
       "75%         32192.000000        60.530000     68.010000  \n",
       "max         41015.000000       101.990000    116.800000  \n",
       "\n",
       "[8 rows x 28 columns]"
      ]
     },
     "execution_count": 6,
     "metadata": {},
     "output_type": "execute_result"
    }
   ],
   "source": [
    "df.describe()"
   ]
  },
  {
   "cell_type": "code",
   "execution_count": 7,
   "id": "bdb1f6a8-0d24-4836-9a87-25a61e1f984f",
   "metadata": {},
   "outputs": [],
   "source": [
    "# Count the total number of null values\n",
    "total_null_values = df.isnull().sum().sum()"
   ]
  },
  {
   "cell_type": "code",
   "execution_count": 8,
   "id": "5c8a8446-13c6-428d-93e2-e456052363c4",
   "metadata": {},
   "outputs": [
    {
     "data": {
      "text/plain": [
       "70529"
      ]
     },
     "execution_count": 8,
     "metadata": {},
     "output_type": "execute_result"
    }
   ],
   "source": [
    "total_null_values"
   ]
  },
  {
   "cell_type": "code",
   "execution_count": 9,
   "id": "24241080-2241-4507-aa0e-7d09e79df328",
   "metadata": {},
   "outputs": [
    {
     "data": {
      "text/plain": [
       "Index(['time', 'generation biomass', 'generation fossil brown coal/lignite',\n",
       "       'generation fossil coal-derived gas', 'generation fossil gas',\n",
       "       'generation fossil hard coal', 'generation fossil oil',\n",
       "       'generation fossil oil shale', 'generation fossil peat',\n",
       "       'generation geothermal', 'generation hydro pumped storage aggregated',\n",
       "       'generation hydro pumped storage consumption',\n",
       "       'generation hydro run-of-river and poundage',\n",
       "       'generation hydro water reservoir', 'generation marine',\n",
       "       'generation nuclear', 'generation other', 'generation other renewable',\n",
       "       'generation solar', 'generation waste', 'generation wind offshore',\n",
       "       'generation wind onshore', 'forecast solar day ahead',\n",
       "       'forecast wind offshore eday ahead', 'forecast wind onshore day ahead',\n",
       "       'total load forecast', 'total load actual', 'price day ahead',\n",
       "       'price actual'],\n",
       "      dtype='object')"
      ]
     },
     "execution_count": 9,
     "metadata": {},
     "output_type": "execute_result"
    }
   ],
   "source": [
    "df.columns"
   ]
  },
  {
   "cell_type": "markdown",
   "id": "81f3a4a9-cee4-45ae-8f66-9bd20b3ae03e",
   "metadata": {},
   "source": [
    "#### --> So, there are a lot of missing data, but our main concern is the column 'load actual'"
   ]
  },
  {
   "cell_type": "code",
   "execution_count": 10,
   "id": "52dfb417-d364-437b-843f-5a2d2ade23ca",
   "metadata": {},
   "outputs": [],
   "source": [
    "# Count the total number of null values in the load_actual column\n",
    "total_null_values_in_load_actual = df['total load actual'].isnull().sum()"
   ]
  },
  {
   "cell_type": "code",
   "execution_count": 11,
   "id": "606136bc-745b-4ab6-913e-3efcfd5dc2af",
   "metadata": {},
   "outputs": [
    {
     "data": {
      "text/plain": [
       "(36, 35064)"
      ]
     },
     "execution_count": 11,
     "metadata": {},
     "output_type": "execute_result"
    }
   ],
   "source": [
    "total_null_values_in_load_actual, len(df)"
   ]
  },
  {
   "cell_type": "markdown",
   "id": "bc265913-4af5-4c62-a6ce-e1fdd29c3157",
   "metadata": {},
   "source": [
    "#### --> 36 values are missing out of total 35064 instances, We need to either fill in these values or remove the rows"
   ]
  },
  {
   "cell_type": "markdown",
   "id": "8280c591-1939-4aec-a36e-f1a1d3290468",
   "metadata": {},
   "source": [
    "#### 2b. Preprocessing"
   ]
  },
  {
   "cell_type": "code",
   "execution_count": 12,
   "id": "9ab2234b-5b1b-479d-831e-f0d86cc561d3",
   "metadata": {},
   "outputs": [
    {
     "name": "stdout",
     "output_type": "stream",
     "text": [
      "Missing values imputed using mean.\n"
     ]
    }
   ],
   "source": [
    "import pandas as pd\n",
    "from sklearn.impute import SimpleImputer\n",
    "\n",
    "def impute_dataset(dataset, imputation_method='mean'):\n",
    "    \"\"\"\n",
    "    Impute missing values in a dataset using the specified imputation method.\n",
    "\n",
    "    Parameters:\n",
    "    - dataset (pd.DataFrame): The input dataset with missing values.\n",
    "    - imputation_method (str): The imputation method ('mean', 'median', 'mode', etc.).\n",
    "\n",
    "    Returns:\n",
    "    - pd.DataFrame: The imputed dataset.\n",
    "    \"\"\"\n",
    "\n",
    "    # Identify columns with missing values\n",
    "    columns_with_missing = dataset.columns[dataset.isnull().any()].tolist()\n",
    "\n",
    "    if not columns_with_missing:\n",
    "        print(\"No missing values found in the dataset.\")\n",
    "        return dataset\n",
    "\n",
    "    # Initialize the imputer\n",
    "    imputer = SimpleImputer(strategy=imputation_method)\n",
    "\n",
    "    # Fit and transform the imputer on the dataset\n",
    "    dataset.loc[:,columns_with_missing] = imputer.fit_transform(dataset[columns_with_missing])\n",
    "\n",
    "    print(\"Missing values imputed using {}.\".format(imputation_method))\n",
    "\n",
    "    return dataset\n",
    "\n",
    "# Impute missing values using mean imputation\n",
    "imputed_df = impute_dataset(df[['time', 'total load actual']], imputation_method='mean')"
   ]
  },
  {
   "cell_type": "code",
   "execution_count": 13,
   "id": "2f7fc6d9-9e86-4b95-b28c-c9116c17c059",
   "metadata": {},
   "outputs": [],
   "source": [
    "# Count the total number of null values\n",
    "total_null_values = imputed_df.isnull().sum().sum()"
   ]
  },
  {
   "cell_type": "code",
   "execution_count": 14,
   "id": "e422b5c0-df3d-4f77-a800-b40d642e1ddb",
   "metadata": {},
   "outputs": [
    {
     "data": {
      "text/plain": [
       "0"
      ]
     },
     "execution_count": 14,
     "metadata": {},
     "output_type": "execute_result"
    }
   ],
   "source": [
    "total_null_values"
   ]
  },
  {
   "cell_type": "markdown",
   "id": "a88ce5ef-3de3-4d55-99a6-effaece970cc",
   "metadata": {},
   "source": [
    "#### --> Null values have been replaced"
   ]
  },
  {
   "cell_type": "markdown",
   "id": "8aa08063-6fa2-48de-82bd-a6c58ecebf90",
   "metadata": {},
   "source": [
    "## Step 3:Creating the windowed dataset for LSTM"
   ]
  },
  {
   "cell_type": "markdown",
   "id": "4b07f323-4f50-467e-9bb0-d0eefeb97b99",
   "metadata": {},
   "source": [
    "### 3a. Define function for the dataset creation"
   ]
  },
  {
   "cell_type": "code",
   "execution_count": 15,
   "id": "347fb8a2",
   "metadata": {},
   "outputs": [],
   "source": [
    "def create_dataset(data, look_back=1):\n",
    "    X = [[data[i+j] for i in range(look_back)] for j in range(len(data)-look_back)]\n",
    "    X = np.array(X)\n",
    "    y = [data[i] for i in range(len(data)-look_back)]\n",
    "    y = np.array(y)\n",
    "    print(f'X shape = {X.shape} and y shape = {y.shape}')\n",
    "    return X,y"
   ]
  },
  {
   "cell_type": "markdown",
   "id": "392d76bf-6a92-4832-b696-35299be2d963",
   "metadata": {},
   "source": [
    "### 3b. Scale data and create windowed dataset"
   ]
  },
  {
   "cell_type": "code",
   "execution_count": 16,
   "id": "9d5755d5",
   "metadata": {},
   "outputs": [
    {
     "name": "stdout",
     "output_type": "stream",
     "text": [
      "X shape = (35039, 25, 1) and y shape = (35039, 1)\n"
     ]
    }
   ],
   "source": [
    "look_back = 25 # Changing may improve result\n",
    "\n",
    "data = imputed_df['total load actual'].astype('float32') \n",
    "data = np.reshape(data, (-1, 1)) # reshape to one feature; required for the models\n",
    "\n",
    "scaler = MinMaxScaler(feature_range=(0, 1)) # Min Max scaler\n",
    "data = scaler.fit_transform(data) # fit and transform the dataset\n",
    "\n",
    "X,y = create_dataset(data, look_back) # windowed dataset"
   ]
  },
  {
   "cell_type": "markdown",
   "id": "e40388ba-1998-4a1e-9172-4acbf7dcf5d1",
   "metadata": {},
   "source": [
    "### 3c. Split data into train, val and test subsets"
   ]
  },
  {
   "cell_type": "code",
   "execution_count": 17,
   "id": "beb7c3db-04e3-48d4-8fa7-c09668df95b8",
   "metadata": {},
   "outputs": [
    {
     "name": "stdout",
     "output_type": "stream",
     "text": [
      "Training dataset shape: (22424, 25, 1)\n"
     ]
    }
   ],
   "source": [
    "X1, X_test, y1, y_test = train_test_split(X, y, test_size=0.2, random_state = 42)\n",
    "X_train, X_val, y_train, y_val = train_test_split(X1, y1, test_size=0.2, random_state = 42)\n",
    "\n",
    "print(f'Training dataset shape: {X_train.shape}')"
   ]
  },
  {
   "cell_type": "markdown",
   "id": "e43fb213-d7a4-43e1-89fd-707881b152d6",
   "metadata": {},
   "source": [
    "### 3d. Define and train LSTM Model with the windowed dataset"
   ]
  },
  {
   "cell_type": "code",
   "execution_count": 18,
   "id": "4ba7a032",
   "metadata": {},
   "outputs": [
    {
     "name": "stdout",
     "output_type": "stream",
     "text": [
      "Epoch 1/50\n",
      "45/45 - 8s - loss: 0.3009 - accuracy: 0.0000e+00 - val_loss: 0.1942 - val_accuracy: 0.0000e+00 - 8s/epoch - 175ms/step\n",
      "Epoch 2/50\n",
      "45/45 - 1s - loss: 0.1673 - accuracy: 0.0000e+00 - val_loss: 0.1512 - val_accuracy: 0.0000e+00 - 864ms/epoch - 19ms/step\n",
      "Epoch 3/50\n",
      "45/45 - 1s - loss: 0.1425 - accuracy: 0.0000e+00 - val_loss: 0.1329 - val_accuracy: 0.0000e+00 - 791ms/epoch - 18ms/step\n",
      "Epoch 4/50\n",
      "45/45 - 1s - loss: 0.1209 - accuracy: 0.0000e+00 - val_loss: 0.1046 - val_accuracy: 0.0000e+00 - 784ms/epoch - 17ms/step\n",
      "Epoch 5/50\n",
      "45/45 - 1s - loss: 0.0908 - accuracy: 0.0000e+00 - val_loss: 0.0799 - val_accuracy: 0.0000e+00 - 753ms/epoch - 17ms/step\n",
      "Epoch 6/50\n",
      "45/45 - 1s - loss: 0.0840 - accuracy: 0.0000e+00 - val_loss: 0.0732 - val_accuracy: 0.0000e+00 - 731ms/epoch - 16ms/step\n",
      "Epoch 7/50\n",
      "45/45 - 1s - loss: 0.0750 - accuracy: 0.0000e+00 - val_loss: 0.0676 - val_accuracy: 0.0000e+00 - 749ms/epoch - 17ms/step\n",
      "Epoch 8/50\n",
      "45/45 - 1s - loss: 0.0700 - accuracy: 0.0000e+00 - val_loss: 0.0627 - val_accuracy: 0.0000e+00 - 731ms/epoch - 16ms/step\n",
      "Epoch 9/50\n",
      "45/45 - 1s - loss: 0.0646 - accuracy: 0.0000e+00 - val_loss: 0.0974 - val_accuracy: 0.0000e+00 - 754ms/epoch - 17ms/step\n",
      "Epoch 10/50\n",
      "45/45 - 1s - loss: 0.0640 - accuracy: 0.0000e+00 - val_loss: 0.0558 - val_accuracy: 0.0000e+00 - 754ms/epoch - 17ms/step\n",
      "Epoch 11/50\n",
      "45/45 - 1s - loss: 0.0596 - accuracy: 0.0000e+00 - val_loss: 0.0588 - val_accuracy: 0.0000e+00 - 738ms/epoch - 16ms/step\n",
      "Epoch 12/50\n",
      "45/45 - 1s - loss: 0.0597 - accuracy: 0.0000e+00 - val_loss: 0.0527 - val_accuracy: 0.0000e+00 - 754ms/epoch - 17ms/step\n",
      "Epoch 13/50\n",
      "45/45 - 1s - loss: 0.0538 - accuracy: 0.0000e+00 - val_loss: 0.0497 - val_accuracy: 0.0000e+00 - 733ms/epoch - 16ms/step\n",
      "Epoch 14/50\n",
      "45/45 - 1s - loss: 0.0518 - accuracy: 0.0000e+00 - val_loss: 0.0455 - val_accuracy: 0.0000e+00 - 739ms/epoch - 16ms/step\n",
      "Epoch 15/50\n",
      "45/45 - 1s - loss: 0.0505 - accuracy: 0.0000e+00 - val_loss: 0.0502 - val_accuracy: 0.0000e+00 - 792ms/epoch - 18ms/step\n",
      "Epoch 16/50\n",
      "45/45 - 1s - loss: 0.0487 - accuracy: 0.0000e+00 - val_loss: 0.0487 - val_accuracy: 0.0000e+00 - 756ms/epoch - 17ms/step\n",
      "Epoch 17/50\n",
      "45/45 - 1s - loss: 0.0479 - accuracy: 0.0000e+00 - val_loss: 0.0464 - val_accuracy: 0.0000e+00 - 744ms/epoch - 17ms/step\n",
      "Epoch 18/50\n",
      "45/45 - 1s - loss: 0.0448 - accuracy: 0.0000e+00 - val_loss: 0.0453 - val_accuracy: 0.0000e+00 - 751ms/epoch - 17ms/step\n",
      "Epoch 19/50\n",
      "45/45 - 1s - loss: 0.0472 - accuracy: 0.0000e+00 - val_loss: 0.0682 - val_accuracy: 0.0000e+00 - 740ms/epoch - 16ms/step\n",
      "Epoch 20/50\n",
      "45/45 - 1s - loss: 0.0454 - accuracy: 0.0000e+00 - val_loss: 0.0438 - val_accuracy: 0.0000e+00 - 747ms/epoch - 17ms/step\n",
      "Epoch 21/50\n",
      "45/45 - 1s - loss: 0.0452 - accuracy: 0.0000e+00 - val_loss: 0.0371 - val_accuracy: 0.0000e+00 - 758ms/epoch - 17ms/step\n",
      "Epoch 22/50\n",
      "45/45 - 1s - loss: 0.0414 - accuracy: 0.0000e+00 - val_loss: 0.0479 - val_accuracy: 0.0000e+00 - 805ms/epoch - 18ms/step\n",
      "Epoch 23/50\n",
      "45/45 - 1s - loss: 0.0411 - accuracy: 0.0000e+00 - val_loss: 0.0345 - val_accuracy: 0.0000e+00 - 816ms/epoch - 18ms/step\n",
      "Epoch 24/50\n",
      "45/45 - 1s - loss: 0.0462 - accuracy: 0.0000e+00 - val_loss: 0.0375 - val_accuracy: 0.0000e+00 - 772ms/epoch - 17ms/step\n",
      "Epoch 25/50\n",
      "45/45 - 1s - loss: 0.0389 - accuracy: 0.0000e+00 - val_loss: 0.0344 - val_accuracy: 0.0000e+00 - 790ms/epoch - 18ms/step\n",
      "Epoch 26/50\n",
      "45/45 - 1s - loss: 0.0417 - accuracy: 0.0000e+00 - val_loss: 0.0446 - val_accuracy: 0.0000e+00 - 742ms/epoch - 16ms/step\n",
      "Epoch 27/50\n",
      "45/45 - 1s - loss: 0.0402 - accuracy: 0.0000e+00 - val_loss: 0.0388 - val_accuracy: 0.0000e+00 - 731ms/epoch - 16ms/step\n",
      "Epoch 28/50\n",
      "45/45 - 1s - loss: 0.0417 - accuracy: 0.0000e+00 - val_loss: 0.0345 - val_accuracy: 0.0000e+00 - 732ms/epoch - 16ms/step\n",
      "Epoch 29/50\n",
      "45/45 - 1s - loss: 0.0405 - accuracy: 0.0000e+00 - val_loss: 0.0330 - val_accuracy: 0.0000e+00 - 726ms/epoch - 16ms/step\n",
      "Epoch 30/50\n",
      "45/45 - 1s - loss: 0.0359 - accuracy: 0.0000e+00 - val_loss: 0.0312 - val_accuracy: 0.0000e+00 - 742ms/epoch - 16ms/step\n",
      "Epoch 31/50\n",
      "45/45 - 1s - loss: 0.0366 - accuracy: 0.0000e+00 - val_loss: 0.0464 - val_accuracy: 0.0000e+00 - 723ms/epoch - 16ms/step\n",
      "Epoch 32/50\n",
      "45/45 - 1s - loss: 0.0416 - accuracy: 0.0000e+00 - val_loss: 0.0330 - val_accuracy: 0.0000e+00 - 726ms/epoch - 16ms/step\n",
      "Epoch 33/50\n",
      "45/45 - 1s - loss: 0.0350 - accuracy: 0.0000e+00 - val_loss: 0.0393 - val_accuracy: 0.0000e+00 - 746ms/epoch - 17ms/step\n",
      "Epoch 34/50\n",
      "45/45 - 1s - loss: 0.0374 - accuracy: 0.0000e+00 - val_loss: 0.0372 - val_accuracy: 0.0000e+00 - 726ms/epoch - 16ms/step\n",
      "Epoch 35/50\n",
      "45/45 - 1s - loss: 0.0377 - accuracy: 0.0000e+00 - val_loss: 0.0467 - val_accuracy: 0.0000e+00 - 732ms/epoch - 16ms/step\n",
      "Epoch 36/50\n",
      "45/45 - 1s - loss: 0.0334 - accuracy: 0.0000e+00 - val_loss: 0.0398 - val_accuracy: 0.0000e+00 - 740ms/epoch - 16ms/step\n",
      "Epoch 37/50\n",
      "45/45 - 1s - loss: 0.0369 - accuracy: 0.0000e+00 - val_loss: 0.0315 - val_accuracy: 0.0000e+00 - 755ms/epoch - 17ms/step\n",
      "Epoch 38/50\n",
      "45/45 - 1s - loss: 0.0331 - accuracy: 0.0000e+00 - val_loss: 0.0318 - val_accuracy: 0.0000e+00 - 742ms/epoch - 16ms/step\n",
      "Epoch 39/50\n",
      "45/45 - 1s - loss: 0.0336 - accuracy: 0.0000e+00 - val_loss: 0.0287 - val_accuracy: 0.0000e+00 - 720ms/epoch - 16ms/step\n",
      "Epoch 40/50\n",
      "45/45 - 1s - loss: 0.0484 - accuracy: 0.0000e+00 - val_loss: 0.0432 - val_accuracy: 0.0000e+00 - 743ms/epoch - 17ms/step\n",
      "Epoch 41/50\n",
      "45/45 - 1s - loss: 0.0419 - accuracy: 0.0000e+00 - val_loss: 0.0301 - val_accuracy: 0.0000e+00 - 744ms/epoch - 17ms/step\n",
      "Epoch 42/50\n",
      "45/45 - 1s - loss: 0.0323 - accuracy: 0.0000e+00 - val_loss: 0.0276 - val_accuracy: 0.0000e+00 - 742ms/epoch - 16ms/step\n",
      "Epoch 43/50\n",
      "45/45 - 1s - loss: 0.0324 - accuracy: 0.0000e+00 - val_loss: 0.0277 - val_accuracy: 0.0000e+00 - 784ms/epoch - 17ms/step\n",
      "Epoch 44/50\n",
      "45/45 - 1s - loss: 0.0363 - accuracy: 0.0000e+00 - val_loss: 0.0338 - val_accuracy: 0.0000e+00 - 792ms/epoch - 18ms/step\n",
      "Epoch 45/50\n",
      "45/45 - 1s - loss: 0.0358 - accuracy: 0.0000e+00 - val_loss: 0.0379 - val_accuracy: 0.0000e+00 - 798ms/epoch - 18ms/step\n",
      "Epoch 46/50\n",
      "45/45 - 1s - loss: 0.0317 - accuracy: 0.0000e+00 - val_loss: 0.0270 - val_accuracy: 0.0000e+00 - 799ms/epoch - 18ms/step\n",
      "Epoch 47/50\n",
      "45/45 - 1s - loss: 0.0332 - accuracy: 0.0000e+00 - val_loss: 0.0372 - val_accuracy: 0.0000e+00 - 740ms/epoch - 16ms/step\n",
      "Epoch 48/50\n",
      "45/45 - 1s - loss: 0.0318 - accuracy: 0.0000e+00 - val_loss: 0.0328 - val_accuracy: 0.0000e+00 - 741ms/epoch - 16ms/step\n",
      "Epoch 49/50\n",
      "45/45 - 1s - loss: 0.0324 - accuracy: 0.0000e+00 - val_loss: 0.0309 - val_accuracy: 0.0000e+00 - 772ms/epoch - 17ms/step\n",
      "Epoch 50/50\n",
      "45/45 - 1s - loss: 0.0320 - accuracy: 0.0000e+00 - val_loss: 0.0340 - val_accuracy: 0.0000e+00 - 768ms/epoch - 17ms/step\n"
     ]
    },
    {
     "data": {
      "image/png": "[encoded data removed]",
      "text/plain": [
       "<Figure size 1000x600 with 1 Axes>"
      ]
     },
     "metadata": {},
     "output_type": "display_data"
    }
   ],
   "source": [
    "model = Sequential()\n",
    "model.add(LSTM((50),batch_input_shape=(None, look_back, 1),return_sequences=False))\n",
    "model.compile(loss='mean_absolute_error',optimizer='adam',metrics=['accuracy'])\n",
    "history = model.fit(X_train, y_train, epochs= 50, batch_size=500, verbose=2, validation_data=(X_val, y_val))\n",
    "\n",
    "# Access the loss values from the training history\n",
    "train_loss = history.history['loss']\n",
    "val_loss = history.history['val_loss']\n",
    "\n",
    "# Plot the loss vs. epoch curve\n",
    "plt.figure(figsize=(10, 6))\n",
    "plt.plot(train_loss, label='Training Loss', color='blue')\n",
    "plt.plot(val_loss, label='Validation Loss', color='orange')\n",
    "plt.title('Loss vs. Epoch')\n",
    "plt.xlabel('Epoch')\n",
    "plt.ylabel('Loss')\n",
    "plt.legend()\n",
    "plt.show()"
   ]
  },
  {
   "cell_type": "markdown",
   "id": "99cb9791-ce19-4ac1-b235-b0732c843f93",
   "metadata": {},
   "source": [
    "### Step 4: Model Evaluation"
   ]
  },
  {
   "cell_type": "markdown",
   "id": "49b0b702-4dd1-4529-91b5-23a342750f98",
   "metadata": {},
   "source": [
    "#### 4a. Visualize predictions"
   ]
  },
  {
   "cell_type": "code",
   "execution_count": 19,
   "id": "6c8a1601",
   "metadata": {},
   "outputs": [
    {
     "name": "stdout",
     "output_type": "stream",
     "text": [
      "2/2 [==============================] - 1s 8ms/step\n"
     ]
    }
   ],
   "source": [
    "no_of_test_samples = 50\n",
    "predict = model.predict(X_test[0:no_of_test_samples])    \n",
    "final_predictions = [np.mean(x) for x in predict]"
   ]
  },
  {
   "cell_type": "code",
   "execution_count": 20,
   "id": "01a648ce",
   "metadata": {},
   "outputs": [
    {
     "data": {
      "text/plain": [
       "<matplotlib.collections.PathCollection at 0x1ecef6e7cd0>"
      ]
     },
     "execution_count": 20,
     "metadata": {},
     "output_type": "execute_result"
    },
    {
     "data": {
      "image/png": "[encoded data removed]",
      "text/plain": [
       "<Figure size 640x480 with 1 Axes>"
      ]
     },
     "metadata": {},
     "output_type": "display_data"
    }
   ],
   "source": [
    "plt.scatter(range(no_of_test_samples),y_test[0:no_of_test_samples],c='red')\n",
    "plt.scatter(range(no_of_test_samples), final_predictions,c='green')"
   ]
  },
  {
   "cell_type": "markdown",
   "id": "a35d8fc4-3f84-4d94-b805-1c3147cc7efe",
   "metadata": {},
   "source": [
    "### 4b. Calculate performance metrics"
   ]
  },
  {
   "cell_type": "code",
   "execution_count": 21,
   "id": "1d955c49",
   "metadata": {},
   "outputs": [
    {
     "name": "stdout",
     "output_type": "stream",
     "text": [
      "219/219 [==============================] - 1s 7ms/step\n",
      "Mean Absolute Error (MAE): 0.03040154278278351 MWh\n",
      "Mean Squared Error (MSE): 0.0013240783009678125 MWh\n",
      "Root Mean Squared Error (RMSE): 0.036387886852025986 MWh\n"
     ]
    }
   ],
   "source": [
    "from sklearn.metrics import mean_squared_error, mean_absolute_error\n",
    "\n",
    "# Make predictions on the test set\n",
    "predictions = model.predict(X_test)\n",
    "predictions = [np.mean(x) for x in predictions]\n",
    "\n",
    "# Calculate Mean Squared Error (MSE)\n",
    "mse = mean_squared_error(y_test, predictions)\n",
    "\n",
    "# Optionally, calculate Root Mean Squared Error (RMSE)\n",
    "rmse = np.sqrt(mse)\n",
    "\n",
    "# Calculate Mean Absolute Error (MAE)\n",
    "mae = mean_absolute_error(y_test, predictions)\n",
    "\n",
    "print(f'Mean Absolute Error (MAE): {mae} MWh')\n",
    "print(f'Mean Squared Error (MSE): {mse} MWh')\n",
    "print(f'Root Mean Squared Error (RMSE): {rmse} MWh')"
   ]
  }
 ],
 "metadata": {
  "kernelspec": {
   "display_name": "Python 3 (ipykernel)",
   "language": "python",
   "name": "python3"
  },
  "language_info": {
   "codemirror_mode": {
    "name": "ipython",
    "version": 3
   },
   "file_extension": ".py",
   "mimetype": "text/x-python",
   "name": "python",
   "nbconvert_exporter": "python",
   "pygments_lexer": "ipython3",
   "version": "3.9.18"
  }
 },
 "nbformat": 4,
 "nbformat_minor": 5
}
