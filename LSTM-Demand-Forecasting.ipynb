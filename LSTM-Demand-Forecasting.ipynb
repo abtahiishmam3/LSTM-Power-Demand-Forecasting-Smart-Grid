{
 "cells": [
  {
   "cell_type": "markdown",
   "metadata": {},
   "source": [
    "# Hourly Energy Demand Time Series Forecast\n",
    "\n",
    "In this notebook we explore the various methods of forecasting in times series. Points covered in this notebook:\n",
    "* Preprocessing the data\n",
    "* Applying models and comparing their performance\n",
    "\n",
    "This notebook is not exhaustive in presenting the methods for forecasting."
   ]
  },
  {
   "cell_type": "code",
   "execution_count": 1,
   "metadata": {
    "_cell_guid": "b1076dfc-b9ad-4769-8c92-a6c4dae69d19",
    "_kg_hide-input": true,
    "_uuid": "8f2839f25d086af736a60e9eeb907d3b93b6e0e5",
    "tags": []
   },
   "outputs": [],
   "source": [
    "import numpy as np # linear algebra\n",
    "import pandas as pd # data processing, CSV file I/O (e.g. pd.read_csv)\n",
    "import os\n",
    "import matplotlib.pyplot as plt\n",
    "import pandas as pd\n",
    "pd.set_option('display.float_format', lambda x: '%.4f' % x)\n",
    "import seaborn as sns\n",
    "sns.set_context(\"paper\", font_scale=1.3)\n",
    "sns.set_style('white')\n",
    "import warnings\n",
    "warnings.filterwarnings('ignore')\n",
    "from time import time\n",
    "import matplotlib.ticker as tkr\n",
    "from scipy import stats\n",
    "from statsmodels.tsa.stattools import adfuller\n",
    "from sklearn import preprocessing\n",
    "from statsmodels.tsa.stattools import pacf\n",
    "%matplotlib inline\n",
    "import math\n",
    "import keras\n",
    "from keras.models import Sequential\n",
    "from keras.layers import Dense\n",
    "from keras.layers import LSTM\n",
    "from keras.layers import Dropout\n",
    "from keras.layers import *\n",
    "from sklearn.preprocessing import MinMaxScaler\n",
    "from sklearn.metrics import mean_squared_error\n",
    "from sklearn.metrics import mean_absolute_error\n",
    "from keras.callbacks import EarlyStopping\n",
    "from sklearn.model_selection import train_test_split"
   ]
  },
  {
   "cell_type": "markdown",
   "metadata": {},
   "source": [
    "# Loading Data and Taking a peek\n",
    "\n",
    "**About the data:** This dataset contains 4 years of electrical consumption, generation, pricing, and weather data for Spain. Consumption and generation data was retrieved from ENTSOE a public portal for Transmission Service Operator (TSO) data. Settlement prices were obtained from the Spanish TSO Red Electric España. Weather data was purchased as part of a personal project from the Open Weather API for the 5 largest cities in Spain and made public here. \n",
    "\n",
    "The dataset is unique because it contains hourly data for electrical consumption and the respective forecasts by the TSO for consumption and pricing. **We focus on predicting electrical comsumption better than the already present forecast in the data. The metrics we are using for comparision is Mean Absolute Percentage Error or MAPE.**\n",
    "\n",
    "The data is multivariate time series as it contains multiple features. To keep this notebook accessible to beginners, we use only a single feature thereby handling univariate time series. Although, to predict more accurately, most of the features presented in the data should be used and the problem should be handled as multivariate."
   ]
  },
  {
   "cell_type": "code",
   "execution_count": 2,
   "metadata": {
    "_cell_guid": "79c7e3d0-c299-4dcb-8224-4455121ee9b0",
    "_uuid": "d629ff2d2480ee46fbb7e2d37f6b5fab8052498a",
    "tags": []
   },
   "outputs": [],
   "source": [
    "df = pd.read_csv(\"energy_dataset.csv\")"
   ]
  },
  {
   "cell_type": "code",
   "execution_count": 3,
   "metadata": {
    "tags": []
   },
   "outputs": [
    {
     "data": {
      "text/html": [
       "<div>\n",
       "<style scoped>\n",
       "    .dataframe tbody tr th:only-of-type {\n",
       "        vertical-align: middle;\n",
       "    }\n",
       "\n",
       "    .dataframe tbody tr th {\n",
       "        vertical-align: top;\n",
       "    }\n",
       "\n",
       "    .dataframe thead th {\n",
       "        text-align: right;\n",
       "    }\n",
       "</style>\n",
       "<table border=\"1\" class=\"dataframe\">\n",
       "  <thead>\n",
       "    <tr style=\"text-align: right;\">\n",
       "      <th></th>\n",
       "      <th>time</th>\n",
       "      <th>generation biomass</th>\n",
       "      <th>generation fossil brown coal/lignite</th>\n",
       "      <th>generation fossil coal-derived gas</th>\n",
       "      <th>generation fossil gas</th>\n",
       "      <th>generation fossil hard coal</th>\n",
       "      <th>generation fossil oil</th>\n",
       "      <th>generation fossil oil shale</th>\n",
       "      <th>generation fossil peat</th>\n",
       "      <th>generation geothermal</th>\n",
       "      <th>...</th>\n",
       "      <th>generation waste</th>\n",
       "      <th>generation wind offshore</th>\n",
       "      <th>generation wind onshore</th>\n",
       "      <th>forecast solar day ahead</th>\n",
       "      <th>forecast wind offshore eday ahead</th>\n",
       "      <th>forecast wind onshore day ahead</th>\n",
       "      <th>total load forecast</th>\n",
       "      <th>total load actual</th>\n",
       "      <th>price day ahead</th>\n",
       "      <th>price actual</th>\n",
       "    </tr>\n",
       "  </thead>\n",
       "  <tbody>\n",
       "    <tr>\n",
       "      <th>0</th>\n",
       "      <td>2015-01-01 00:00:00+01:00</td>\n",
       "      <td>447.0000</td>\n",
       "      <td>329.0000</td>\n",
       "      <td>0.0000</td>\n",
       "      <td>4844.0000</td>\n",
       "      <td>4821.0000</td>\n",
       "      <td>162.0000</td>\n",
       "      <td>0.0000</td>\n",
       "      <td>0.0000</td>\n",
       "      <td>0.0000</td>\n",
       "      <td>...</td>\n",
       "      <td>196.0000</td>\n",
       "      <td>0.0000</td>\n",
       "      <td>6378.0000</td>\n",
       "      <td>17.0000</td>\n",
       "      <td>NaN</td>\n",
       "      <td>6436.0000</td>\n",
       "      <td>26118.0000</td>\n",
       "      <td>25385.0000</td>\n",
       "      <td>50.1000</td>\n",
       "      <td>65.4100</td>\n",
       "    </tr>\n",
       "    <tr>\n",
       "      <th>1</th>\n",
       "      <td>2015-01-01 01:00:00+01:00</td>\n",
       "      <td>449.0000</td>\n",
       "      <td>328.0000</td>\n",
       "      <td>0.0000</td>\n",
       "      <td>5196.0000</td>\n",
       "      <td>4755.0000</td>\n",
       "      <td>158.0000</td>\n",
       "      <td>0.0000</td>\n",
       "      <td>0.0000</td>\n",
       "      <td>0.0000</td>\n",
       "      <td>...</td>\n",
       "      <td>195.0000</td>\n",
       "      <td>0.0000</td>\n",
       "      <td>5890.0000</td>\n",
       "      <td>16.0000</td>\n",
       "      <td>NaN</td>\n",
       "      <td>5856.0000</td>\n",
       "      <td>24934.0000</td>\n",
       "      <td>24382.0000</td>\n",
       "      <td>48.1000</td>\n",
       "      <td>64.9200</td>\n",
       "    </tr>\n",
       "    <tr>\n",
       "      <th>2</th>\n",
       "      <td>2015-01-01 02:00:00+01:00</td>\n",
       "      <td>448.0000</td>\n",
       "      <td>323.0000</td>\n",
       "      <td>0.0000</td>\n",
       "      <td>4857.0000</td>\n",
       "      <td>4581.0000</td>\n",
       "      <td>157.0000</td>\n",
       "      <td>0.0000</td>\n",
       "      <td>0.0000</td>\n",
       "      <td>0.0000</td>\n",
       "      <td>...</td>\n",
       "      <td>196.0000</td>\n",
       "      <td>0.0000</td>\n",
       "      <td>5461.0000</td>\n",
       "      <td>8.0000</td>\n",
       "      <td>NaN</td>\n",
       "      <td>5454.0000</td>\n",
       "      <td>23515.0000</td>\n",
       "      <td>22734.0000</td>\n",
       "      <td>47.3300</td>\n",
       "      <td>64.4800</td>\n",
       "    </tr>\n",
       "    <tr>\n",
       "      <th>3</th>\n",
       "      <td>2015-01-01 03:00:00+01:00</td>\n",
       "      <td>438.0000</td>\n",
       "      <td>254.0000</td>\n",
       "      <td>0.0000</td>\n",
       "      <td>4314.0000</td>\n",
       "      <td>4131.0000</td>\n",
       "      <td>160.0000</td>\n",
       "      <td>0.0000</td>\n",
       "      <td>0.0000</td>\n",
       "      <td>0.0000</td>\n",
       "      <td>...</td>\n",
       "      <td>191.0000</td>\n",
       "      <td>0.0000</td>\n",
       "      <td>5238.0000</td>\n",
       "      <td>2.0000</td>\n",
       "      <td>NaN</td>\n",
       "      <td>5151.0000</td>\n",
       "      <td>22642.0000</td>\n",
       "      <td>21286.0000</td>\n",
       "      <td>42.2700</td>\n",
       "      <td>59.3200</td>\n",
       "    </tr>\n",
       "    <tr>\n",
       "      <th>4</th>\n",
       "      <td>2015-01-01 04:00:00+01:00</td>\n",
       "      <td>428.0000</td>\n",
       "      <td>187.0000</td>\n",
       "      <td>0.0000</td>\n",
       "      <td>4130.0000</td>\n",
       "      <td>3840.0000</td>\n",
       "      <td>156.0000</td>\n",
       "      <td>0.0000</td>\n",
       "      <td>0.0000</td>\n",
       "      <td>0.0000</td>\n",
       "      <td>...</td>\n",
       "      <td>189.0000</td>\n",
       "      <td>0.0000</td>\n",
       "      <td>4935.0000</td>\n",
       "      <td>9.0000</td>\n",
       "      <td>NaN</td>\n",
       "      <td>4861.0000</td>\n",
       "      <td>21785.0000</td>\n",
       "      <td>20264.0000</td>\n",
       "      <td>38.4100</td>\n",
       "      <td>56.0400</td>\n",
       "    </tr>\n",
       "  </tbody>\n",
       "</table>\n",
       "<p>5 rows × 29 columns</p>\n",
       "</div>"
      ],
      "text/plain": [
       "                        time  generation biomass  \\\n",
       "0  2015-01-01 00:00:00+01:00            447.0000   \n",
       "1  2015-01-01 01:00:00+01:00            449.0000   \n",
       "2  2015-01-01 02:00:00+01:00            448.0000   \n",
       "3  2015-01-01 03:00:00+01:00            438.0000   \n",
       "4  2015-01-01 04:00:00+01:00            428.0000   \n",
       "\n",
       "   generation fossil brown coal/lignite  generation fossil coal-derived gas  \\\n",
       "0                              329.0000                              0.0000   \n",
       "1                              328.0000                              0.0000   \n",
       "2                              323.0000                              0.0000   \n",
       "3                              254.0000                              0.0000   \n",
       "4                              187.0000                              0.0000   \n",
       "\n",
       "   generation fossil gas  generation fossil hard coal  generation fossil oil  \\\n",
       "0              4844.0000                    4821.0000               162.0000   \n",
       "1              5196.0000                    4755.0000               158.0000   \n",
       "2              4857.0000                    4581.0000               157.0000   \n",
       "3              4314.0000                    4131.0000               160.0000   \n",
       "4              4130.0000                    3840.0000               156.0000   \n",
       "\n",
       "   generation fossil oil shale  generation fossil peat  generation geothermal  \\\n",
       "0                       0.0000                  0.0000                 0.0000   \n",
       "1                       0.0000                  0.0000                 0.0000   \n",
       "2                       0.0000                  0.0000                 0.0000   \n",
       "3                       0.0000                  0.0000                 0.0000   \n",
       "4                       0.0000                  0.0000                 0.0000   \n",
       "\n",
       "   ...  generation waste  generation wind offshore  generation wind onshore  \\\n",
       "0  ...          196.0000                    0.0000                6378.0000   \n",
       "1  ...          195.0000                    0.0000                5890.0000   \n",
       "2  ...          196.0000                    0.0000                5461.0000   \n",
       "3  ...          191.0000                    0.0000                5238.0000   \n",
       "4  ...          189.0000                    0.0000                4935.0000   \n",
       "\n",
       "   forecast solar day ahead  forecast wind offshore eday ahead  \\\n",
       "0                   17.0000                                NaN   \n",
       "1                   16.0000                                NaN   \n",
       "2                    8.0000                                NaN   \n",
       "3                    2.0000                                NaN   \n",
       "4                    9.0000                                NaN   \n",
       "\n",
       "   forecast wind onshore day ahead  total load forecast  total load actual  \\\n",
       "0                        6436.0000           26118.0000         25385.0000   \n",
       "1                        5856.0000           24934.0000         24382.0000   \n",
       "2                        5454.0000           23515.0000         22734.0000   \n",
       "3                        5151.0000           22642.0000         21286.0000   \n",
       "4                        4861.0000           21785.0000         20264.0000   \n",
       "\n",
       "   price day ahead  price actual  \n",
       "0          50.1000       65.4100  \n",
       "1          48.1000       64.9200  \n",
       "2          47.3300       64.4800  \n",
       "3          42.2700       59.3200  \n",
       "4          38.4100       56.0400  \n",
       "\n",
       "[5 rows x 29 columns]"
      ]
     },
     "execution_count": 3,
     "metadata": {},
     "output_type": "execute_result"
    }
   ],
   "source": [
    "df.head()"
   ]
  },
  {
   "cell_type": "code",
   "execution_count": 4,
   "metadata": {
    "tags": []
   },
   "outputs": [
    {
     "name": "stdout",
     "output_type": "stream",
     "text": [
      "<class 'pandas.core.frame.DataFrame'>\n",
      "RangeIndex: 35064 entries, 0 to 35063\n",
      "Data columns (total 29 columns):\n",
      " #   Column                                       Non-Null Count  Dtype  \n",
      "---  ------                                       --------------  -----  \n",
      " 0   time                                         35064 non-null  object \n",
      " 1   generation biomass                           35045 non-null  float64\n",
      " 2   generation fossil brown coal/lignite         35046 non-null  float64\n",
      " 3   generation fossil coal-derived gas           35046 non-null  float64\n",
      " 4   generation fossil gas                        35046 non-null  float64\n",
      " 5   generation fossil hard coal                  35046 non-null  float64\n",
      " 6   generation fossil oil                        35045 non-null  float64\n",
      " 7   generation fossil oil shale                  35046 non-null  float64\n",
      " 8   generation fossil peat                       35046 non-null  float64\n",
      " 9   generation geothermal                        35046 non-null  float64\n",
      " 10  generation hydro pumped storage aggregated   0 non-null      float64\n",
      " 11  generation hydro pumped storage consumption  35045 non-null  float64\n",
      " 12  generation hydro run-of-river and poundage   35045 non-null  float64\n",
      " 13  generation hydro water reservoir             35046 non-null  float64\n",
      " 14  generation marine                            35045 non-null  float64\n",
      " 15  generation nuclear                           35047 non-null  float64\n",
      " 16  generation other                             35046 non-null  float64\n",
      " 17  generation other renewable                   35046 non-null  float64\n",
      " 18  generation solar                             35046 non-null  float64\n",
      " 19  generation waste                             35045 non-null  float64\n",
      " 20  generation wind offshore                     35046 non-null  float64\n",
      " 21  generation wind onshore                      35046 non-null  float64\n",
      " 22  forecast solar day ahead                     35064 non-null  float64\n",
      " 23  forecast wind offshore eday ahead            0 non-null      float64\n",
      " 24  forecast wind onshore day ahead              35064 non-null  float64\n",
      " 25  total load forecast                          35064 non-null  float64\n",
      " 26  total load actual                            35028 non-null  float64\n",
      " 27  price day ahead                              35064 non-null  float64\n",
      " 28  price actual                                 35064 non-null  float64\n",
      "dtypes: float64(28), object(1)\n",
      "memory usage: 7.8+ MB\n"
     ]
    }
   ],
   "source": [
    "df.info()"
   ]
  },
  {
   "cell_type": "code",
   "execution_count": 5,
   "metadata": {
    "tags": []
   },
   "outputs": [
    {
     "name": "stdout",
     "output_type": "stream",
     "text": [
      "MAPE of the forecasted data present in DataFrame: 1.096023073723821\n"
     ]
    }
   ],
   "source": [
    "mape = np.mean(np.abs((df['total load actual'] - df['total load forecast']) / df['total load actual'])) * 100\n",
    "print('MAPE of the forecasted data present in DataFrame:', mape)"
   ]
  },
  {
   "cell_type": "markdown",
   "metadata": {},
   "source": [
    "# Preprocessing\n",
    "\n",
    "Here we extract the single feature we will predict, i.e. `total load actual`. Then we scale the feature using a MinMaxScaler. To prepare the data for the models, use `create_dataset` function which takes the data and creates chunks of it based on the `look_back`. \n",
    "\n",
    "The preprocessing works as follows:\n",
    "Example data: `[1,2,3,4,5]`\n",
    "After preprocessing (x -> y): \n",
    ">`[1,2]` -> `[3]` <br>\n",
    ">`[2,3]` -> `[4]` <br>\n",
    ">`[3,4]` -> `[5]` <br>\n",
    "\n",
    "when `look_back` is set to 2. This preprocessing is only required for LSTM. Rest of the models take input as a series with single feature."
   ]
  },
  {
   "cell_type": "code",
   "execution_count": 6,
   "metadata": {
    "tags": []
   },
   "outputs": [
    {
     "name": "stdout",
     "output_type": "stream",
     "text": [
      "dataset shape: (35028, 1)\n",
      "Shapes: \n",
      "Training set: (27996, 1, 25), Testing set: (6980, 1, 25)\n",
      "Sample from training set: \n",
      "[[0.31966567 0.27600765 0.20427442 0.14124662 0.09676152 0.08113521\n",
      "  0.08570558 0.10168016 0.08936191 0.11299729 0.1832071  0.23966217\n",
      "  0.26516938 0.2904153  0.2886306  0.23883522 0.22098899 0.2422303\n",
      "  0.36589193 0.43436062 0.47762692 0.5018717  0.47836685 0.38117003\n",
      "  0.39300954]]\n"
     ]
    }
   ],
   "source": [
    "temp = df.copy() # make temporary copy of dataframe\n",
    "dataset = temp['total load actual'].dropna().values # numpy.ndarray of the actual load\n",
    "dataset = dataset.astype('float32') \n",
    "dataset = np.reshape(dataset, (-1, 1)) # reshape to one feature; required for the models\n",
    "\n",
    "scaler = MinMaxScaler(feature_range=(0, 1)) # Min Max scaler\n",
    "dataset = scaler.fit_transform(dataset) # fit and transform the dataset\n",
    "\n",
    "# Train and Test splits\n",
    "train, test = train_test_split(dataset, test_size=0.2, shuffle = False)\n",
    "print(f'dataset shape: {dataset.shape}')\n",
    "\n",
    "def create_dataset(dataset, look_back=1):\n",
    "    X, Y = [], []\n",
    "    for i in range(len(dataset)-look_back-1):\n",
    "        a = dataset[i:(i+look_back), 0]\n",
    "        X.append(a)\n",
    "        Y.append(dataset[i + look_back, 0])\n",
    "    return np.array(X), np.array(Y)\n",
    "    \n",
    "look_back = 25 # timesteps to lookback for predictions\n",
    "X_train, trainY = create_dataset(train, look_back)\n",
    "X_test, testY = create_dataset(test, look_back)\n",
    "\n",
    "# reshape input to be [samples, time steps, features]\n",
    "X_train = np.reshape(X_train, (X_train.shape[0], 1, X_train.shape[1]))\n",
    "X_test = np.reshape(X_test, (X_test.shape[0], 1, X_test.shape[1]))\n",
    "print(\"Shapes: \\nTraining set: {}, Testing set: {}\".format(X_train.shape, X_test.shape))\n",
    "print(\"Sample from training set: \\n{}\".format(X_train[0]))"
   ]
  },
  {
   "cell_type": "markdown",
   "metadata": {},
   "source": [
    "# Models and their MAPE\n",
    "\n",
    "Here we test various models and visualize their predictions. Models used are:\n",
    "* AutoRegressive\n",
    "* Moving Average\n",
    "* ARMA\n",
    "* ARIMA\n",
    "* LSTM"
   ]
  },
  {
   "cell_type": "markdown",
   "metadata": {},
   "source": [
    "## AutoRegressive\n",
    "\n",
    "An autoregressive (AR) model predicts future behavior based on past behavior. The process is basically a linear regression of the data in the current series against one or more past values in the same series."
   ]
  },
  {
   "cell_type": "code",
   "execution_count": 7,
   "metadata": {},
   "outputs": [],
   "source": [
    "from statsmodels.tsa.ar_model import AR\n",
    "\n",
    "model = AR(train)\n",
    "model_fit = model.fit()"
   ]
  },
  {
   "cell_type": "code",
   "execution_count": 8,
   "metadata": {},
   "outputs": [
    {
     "name": "stdout",
     "output_type": "stream",
     "text": [
      "Test Mean Absolute Error: 3729.264425078806\n",
      "Test Root Mean Squared Error: 4391.073081234321\n"
     ]
    }
   ],
   "source": [
    "test_predict = model_fit.predict(start=len(train), end=len(train)+len(test)-1, dynamic=False)\n",
    "# invert predictions\n",
    "test_predict = scaler.inverse_transform(test_predict.reshape(-1, 1))\n",
    "Y_test = scaler.inverse_transform(test)\n",
    "print('Test Mean Absolute Error:', mean_absolute_error(Y_test, test_predict))\n",
    "print('Test Root Mean Squared Error:',np.sqrt(mean_squared_error(Y_test, test_predict)))"
   ]
  },
  {
   "cell_type": "code",
   "execution_count": 9,
   "metadata": {},
   "outputs": [
    {
     "name": "stdout",
     "output_type": "stream",
     "text": [
      "Testing MAPE: 13.333375085466361\n"
     ]
    }
   ],
   "source": [
    "mape = np.mean(np.abs((Y_test - test_predict) / Y_test)) * 100\n",
    "print(\"Testing MAPE: {}\".format(mape))"
   ]
  },
  {
   "cell_type": "code",
   "execution_count": 10,
   "metadata": {},
   "outputs": [
    {
     "data": {
      "image/png": "[encoded data removed]",
      "text/plain": [
       "<Figure size 576x288 with 1 Axes>"
      ]
     },
     "metadata": {
      "needs_background": "light"
     },
     "output_type": "display_data"
    }
   ],
   "source": [
    "idx = 200\n",
    "aa=[x for x in range(idx)]\n",
    "plt.figure(figsize=(8,4))\n",
    "plt.plot(aa, Y_test[:idx], marker='.', label=\"actual\")\n",
    "plt.plot(aa, test_predict[:idx], 'r', label=\"prediction\")\n",
    "# plt.tick_params(left=False, labelleft=True) #remove ticks\n",
    "plt.tight_layout()\n",
    "sns.despine(top=True)\n",
    "plt.subplots_adjust(left=0.07)\n",
    "plt.ylabel('TOTAL Load', size=15)\n",
    "plt.xlabel('Time step', size=15)\n",
    "plt.legend(fontsize=15)\n",
    "plt.show();"
   ]
  },
  {
   "cell_type": "markdown",
   "metadata": {},
   "source": [
    "## Moving Average\n",
    "\n",
    "The moving average (MA) is a simple technical analysis tool that smooths out price data by creating a constantly updated average price. The average is taken over a specific period of time, like 10 days, 20 minutes, 30 weeks or any time period the trader chooses. We are taking moving average of 25 hours hence we can use the data we prepared for LSTM."
   ]
  },
  {
   "cell_type": "code",
   "execution_count": 11,
   "metadata": {},
   "outputs": [
    {
     "name": "stdout",
     "output_type": "stream",
     "text": [
      "Test Mean Absolute Error: 0.14497761\n",
      "Test Root Mean Squared Error: 0.17464507\n"
     ]
    }
   ],
   "source": [
    "test_predict = np.mean(X_test, axis=2)\n",
    "print('Test Mean Absolute Error:', mean_absolute_error(testY, test_predict))\n",
    "print('Test Root Mean Squared Error:',np.sqrt(mean_squared_error(testY, test_predict)))"
   ]
  },
  {
   "cell_type": "code",
   "execution_count": 12,
   "metadata": {},
   "outputs": [
    {
     "ename": "ValueError",
     "evalue": "operands could not be broadcast together with shapes (7006,1) (6980,1) ",
     "output_type": "error",
     "traceback": [
      "\u001b[1;31m---------------------------------------------------------------------------\u001b[0m",
      "\u001b[1;31mValueError\u001b[0m                                Traceback (most recent call last)",
      "\u001b[1;32m<ipython-input-12-996efb23a96f>\u001b[0m in \u001b[0;36m<module>\u001b[1;34m\u001b[0m\n\u001b[1;32m----> 1\u001b[1;33m \u001b[0mmape\u001b[0m \u001b[1;33m=\u001b[0m \u001b[0mnp\u001b[0m\u001b[1;33m.\u001b[0m\u001b[0mmean\u001b[0m\u001b[1;33m(\u001b[0m\u001b[0mnp\u001b[0m\u001b[1;33m.\u001b[0m\u001b[0mabs\u001b[0m\u001b[1;33m(\u001b[0m\u001b[1;33m(\u001b[0m\u001b[0mY_test\u001b[0m \u001b[1;33m-\u001b[0m \u001b[0mtest_predict\u001b[0m\u001b[1;33m)\u001b[0m \u001b[1;33m/\u001b[0m \u001b[0mY_test\u001b[0m\u001b[1;33m)\u001b[0m\u001b[1;33m)\u001b[0m \u001b[1;33m*\u001b[0m \u001b[1;36m100\u001b[0m\u001b[1;33m\u001b[0m\u001b[1;33m\u001b[0m\u001b[0m\n\u001b[0m\u001b[0;32m      2\u001b[0m \u001b[0mprint\u001b[0m\u001b[1;33m(\u001b[0m\u001b[1;34m\"Testing MAPE: {}\"\u001b[0m\u001b[1;33m.\u001b[0m\u001b[0mformat\u001b[0m\u001b[1;33m(\u001b[0m\u001b[0mmape\u001b[0m\u001b[1;33m)\u001b[0m\u001b[1;33m)\u001b[0m\u001b[1;33m\u001b[0m\u001b[1;33m\u001b[0m\u001b[0m\n",
      "\u001b[1;31mValueError\u001b[0m: operands could not be broadcast together with shapes (7006,1) (6980,1) "
     ]
    }
   ],
   "source": [
    "mape = np.mean(np.abs((Y_test - test_predict) / Y_test)) * 100\n",
    "print(\"Testing MAPE: {}\".format(mape))"
   ]
  },
  {
   "cell_type": "code",
   "execution_count": 13,
   "metadata": {},
   "outputs": [
    {
     "data": {
      "image/png": "[encoded data removed]",
      "text/plain": [
       "<Figure size 576x288 with 1 Axes>"
      ]
     },
     "metadata": {
      "needs_background": "light"
     },
     "output_type": "display_data"
    }
   ],
   "source": [
    "idx = 200\n",
    "aa=[x for x in range(idx)]\n",
    "plt.figure(figsize=(8,4))\n",
    "plt.plot(aa, testY[:idx], marker='.', label=\"actual\")\n",
    "plt.plot(aa, test_predict[:idx], 'r', label=\"prediction\")\n",
    "# plt.tick_params(left=False, labelleft=True) #remove ticks\n",
    "plt.tight_layout()\n",
    "sns.despine(top=True)\n",
    "plt.subplots_adjust(left=0.07)\n",
    "plt.ylabel('TOTAL Load', size=15)\n",
    "plt.xlabel('Time step', size=15)\n",
    "plt.legend(fontsize=15)\n",
    "plt.show();"
   ]
  },
  {
   "cell_type": "markdown",
   "metadata": {},
   "source": [
    "## ARMA\n",
    "\n",
    "An ARMA model, or Autoregressive Moving Average model, is used to describe weakly stationary stochastic time series in terms of two polynomials. The first of these polynomials is for autoregression, the second for the moving average."
   ]
  },
  {
   "cell_type": "code",
   "execution_count": 14,
   "metadata": {},
   "outputs": [],
   "source": [
    "from statsmodels.tsa.arima_model import ARMA\n",
    "\n",
    "model = ARMA(train, order=(2, 1))\n",
    "model_fit = model.fit(disp=False)"
   ]
  },
  {
   "cell_type": "code",
   "execution_count": null,
   "metadata": {},
   "outputs": [],
   "source": [
    "test_predict = model_fit.predict(start=len(train), end=len(train)+len(test)-1, dynamic=False)\n",
    "# invert predictions\n",
    "test_predict = scaler.inverse_transform(test_predict.reshape(-1, 1))\n",
    "Y_test = scaler.inverse_transform(test)\n",
    "print('Test Mean Absolute Error:', mean_absolute_error(Y_test, test_predict))\n",
    "print('Test Root Mean Squared Error:',np.sqrt(mean_squared_error(Y_test, test_predict)))"
   ]
  },
  {
   "cell_type": "code",
   "execution_count": null,
   "metadata": {},
   "outputs": [],
   "source": [
    "mape = np.mean(np.abs((Y_test - test_predict) / Y_test)) * 100\n",
    "print(\"Testing MAPE: {}\".format(mape))"
   ]
  },
  {
   "cell_type": "code",
   "execution_count": null,
   "metadata": {},
   "outputs": [],
   "source": [
    "idx = 200\n",
    "aa=[x for x in range(idx)]\n",
    "plt.figure(figsize=(8,4))\n",
    "plt.plot(aa, Y_test[:idx], marker='.', label=\"actual\")\n",
    "plt.plot(aa, test_predict[:idx], 'r', label=\"prediction\")\n",
    "# plt.tick_params(left=False, labelleft=True) #remove ticks\n",
    "plt.tight_layout()\n",
    "sns.despine(top=True)\n",
    "plt.subplots_adjust(left=0.07)\n",
    "plt.ylabel('TOTAL Load', size=15)\n",
    "plt.xlabel('Time step', size=15)\n",
    "plt.legend(fontsize=15)\n",
    "plt.show();"
   ]
  },
  {
   "cell_type": "markdown",
   "metadata": {},
   "source": [
    "## ARIMA\n",
    "\n",
    "Auto Regressive Integrated Moving Average is a class of models that explains a given time series based on its own past values, that is, its own lags and the lagged forecast errors, so that equation can be used to forecast future values."
   ]
  },
  {
   "cell_type": "code",
   "execution_count": null,
   "metadata": {},
   "outputs": [],
   "source": [
    "from statsmodels.tsa.arima_model import ARIMA\n",
    "\n",
    "model = ARIMA(train, order=(1, 1, 1))\n",
    "model_fit = model.fit(disp=False)"
   ]
  },
  {
   "cell_type": "code",
   "execution_count": null,
   "metadata": {},
   "outputs": [],
   "source": [
    "test_predict = model_fit.predict(start=len(train), end=len(train)+len(test)-1, dynamic=False)\n",
    "# invert predictions\n",
    "test_predict = scaler.inverse_transform(test_predict.reshape(-1, 1))\n",
    "Y_test = scaler.inverse_transform(test)\n",
    "print('Test Mean Absolute Error:', mean_absolute_error(Y_test, test_predict))\n",
    "print('Test Root Mean Squared Error:',np.sqrt(mean_squared_error(Y_test, test_predict)))"
   ]
  },
  {
   "cell_type": "code",
   "execution_count": null,
   "metadata": {},
   "outputs": [],
   "source": [
    "mape = np.mean(np.abs((Y_test - test_predict) / Y_test)) * 100\n",
    "print(\"Testing MAPE: {}\".format(mape))"
   ]
  },
  {
   "cell_type": "code",
   "execution_count": null,
   "metadata": {},
   "outputs": [],
   "source": [
    "idx = 200\n",
    "aa=[x for x in range(idx)]\n",
    "plt.figure(figsize=(8,4))\n",
    "plt.plot(aa, Y_test[:idx], marker='.', label=\"actual\")\n",
    "plt.plot(aa, test_predict[:idx], 'r', label=\"prediction\")\n",
    "# plt.tick_params(left=False, labelleft=True) #remove ticks\n",
    "plt.tight_layout()\n",
    "sns.despine(top=True)\n",
    "plt.subplots_adjust(left=0.07)\n",
    "plt.ylabel('TOTAL Load', size=15)\n",
    "plt.xlabel('Time step', size=15)\n",
    "plt.legend(fontsize=15)\n",
    "plt.show();"
   ]
  },
  {
   "cell_type": "markdown",
   "metadata": {},
   "source": [
    "## LSTM\n",
    "\n",
    "Long short-term memory is an artificial recurrent neural network architecture used in the field of deep learning. Unlike standard feedforward neural networks, LSTM has feedback connections. It can not only process single data points, but also entire sequences of data"
   ]
  },
  {
   "cell_type": "code",
   "execution_count": null,
   "metadata": {},
   "outputs": [],
   "source": [
    "# making data again to remove inconsistencies\n",
    "temp = df\n",
    "dataset = temp['total load actual'].dropna().values #numpy.ndarray\n",
    "dataset = dataset.astype('float32')\n",
    "dataset = np.reshape(dataset, (-1, 1))\n",
    "scaler = MinMaxScaler(feature_range=(0, 1))\n",
    "dataset = scaler.fit_transform(dataset)\n",
    "train_size = int(len(dataset) * 0.80)\n",
    "test_size = len(dataset) - train_size\n",
    "train, test = dataset[0:train_size,:], dataset[train_size:len(dataset),:]\n",
    "\n",
    "def create_dataset(dataset, look_back=1):\n",
    "    X, Y = [], []\n",
    "    for i in range(len(dataset)-look_back-1):\n",
    "        a = dataset[i:(i+look_back), 0]\n",
    "        X.append(a)\n",
    "        Y.append(dataset[i + look_back, 0])\n",
    "    return np.array(X), np.array(Y)\n",
    "    \n",
    "look_back = 25\n",
    "X_train, Y_train = create_dataset(train, look_back)\n",
    "X_test, Y_test = create_dataset(test, look_back)\n",
    "\n",
    "# reshape input to be [samples, time steps, features]\n",
    "X_train = np.reshape(X_train, (X_train.shape[0], 1, X_train.shape[1]))\n",
    "X_test = np.reshape(X_test, (X_test.shape[0], 1, X_test.shape[1]))"
   ]
  },
  {
   "cell_type": "code",
   "execution_count": null,
   "metadata": {
    "_kg_hide-output": true
   },
   "outputs": [],
   "source": [
    "model = Sequential()\n",
    "model.add(LSTM(100, input_shape=(X_train.shape[1], X_train.shape[2])))\n",
    "model.add(Dropout(0.2))\n",
    "model.add(Dense(1))\n",
    "model.compile(loss='mean_squared_error', optimizer='adam')\n",
    "\n",
    "history = model.fit(X_train, Y_train, epochs=200, batch_size=70, validation_data=(X_test, Y_test),verbose=1, shuffle=False)\n",
    "\n",
    "model.summary()"
   ]
  },
  {
   "cell_type": "code",
   "execution_count": null,
   "metadata": {},
   "outputs": [],
   "source": [
    "train_predict = model.predict(X_train)\n",
    "test_predict = model.predict(X_test)\n",
    "# invert predictions\n",
    "train_predict = scaler.inverse_transform(train_predict)\n",
    "Y_train = scaler.inverse_transform([Y_train])\n",
    "test_predict = scaler.inverse_transform(test_predict)\n",
    "Y_test = scaler.inverse_transform([Y_test])\n",
    "print('Train Mean Absolute Error:', mean_absolute_error(Y_train[0], train_predict[:,0]))\n",
    "print('Train Root Mean Squared Error:',np.sqrt(mean_squared_error(Y_train[0], train_predict[:,0])))\n",
    "print('Test Mean Absolute Error:', mean_absolute_error(Y_test[0], test_predict[:,0]))\n",
    "print('Test Root Mean Squared Error:',np.sqrt(mean_squared_error(Y_test[0], test_predict[:,0])))"
   ]
  },
  {
   "cell_type": "code",
   "execution_count": null,
   "metadata": {},
   "outputs": [],
   "source": [
    "mape_train = np.mean(np.abs((Y_train[0] - train_predict[:,0]) / Y_train[0])) * 100\n",
    "mape_test = np.mean(np.abs((Y_test[0] - test_predict[:,0]) / Y_test[0])) * 100\n",
    "\n",
    "print(\"Train MAPE: {}, Test MAPE: {}\".format(mape_train, mape_test))"
   ]
  },
  {
   "cell_type": "code",
   "execution_count": null,
   "metadata": {},
   "outputs": [],
   "source": [
    "plt.figure(figsize=(8,4))\n",
    "plt.plot(history.history['loss'], label='Train Loss')\n",
    "plt.plot(history.history['val_loss'], label='Test Loss')\n",
    "plt.title('model loss')\n",
    "plt.ylabel('loss')\n",
    "plt.xlabel('epochs')\n",
    "plt.legend(loc='upper right')\n",
    "plt.show();"
   ]
  },
  {
   "cell_type": "code",
   "execution_count": null,
   "metadata": {},
   "outputs": [],
   "source": [
    "idx = 200\n",
    "aa=[x for x in range(idx)]\n",
    "plt.figure(figsize=(8,4))\n",
    "plt.plot(aa, Y_test[0][:idx], marker='.', label=\"actual\")\n",
    "plt.plot(aa, test_predict[:,0][:idx], 'r', label=\"prediction\")\n",
    "# plt.tick_params(left=False, labelleft=True) #remove ticks\n",
    "plt.tight_layout()\n",
    "sns.despine(top=True)\n",
    "plt.subplots_adjust(left=0.07)\n",
    "plt.ylabel('TOTAL Load', size=15)\n",
    "plt.xlabel('Time step', size=15)\n",
    "plt.legend(fontsize=15)\n",
    "plt.show();"
   ]
  },
  {
   "cell_type": "markdown",
   "metadata": {},
   "source": [
    "## Analysis and Future Work\n",
    "\n",
    "The LSTM model preformed close to the forecasted data present in the dataset. The MAPE can be improved further by forming this problem as a multivariate time series and tweaking the LSTM model. There are also many parameters that can improve the overall performance. The rest is upto your imagination!!"
   ]
  },
  {
   "cell_type": "code",
   "execution_count": null,
   "metadata": {},
   "outputs": [],
   "source": []
  }
 ],
 "metadata": {
  "kernelspec": {
   "display_name": "Python 3",
   "language": "python",
   "name": "python3"
  },
  "language_info": {
   "codemirror_mode": {
    "name": "ipython",
    "version": 3
   },
   "file_extension": ".py",
   "mimetype": "text/x-python",
   "name": "python",
   "nbconvert_exporter": "python",
   "pygments_lexer": "ipython3",
   "version": "3.8.5"
  }
 },
 "nbformat": 4,
 "nbformat_minor": 4
}
